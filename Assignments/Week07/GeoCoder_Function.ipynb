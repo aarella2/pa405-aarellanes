{
 "cells": [
  {
   "cell_type": "markdown",
   "id": "658d3208-2476-4e5c-9324-9a2ff1d6756f",
   "metadata": {},
   "source": [
    "# Fuction Assignment"
   ]
  },
  {
   "cell_type": "markdown",
   "id": "f6bd1227-ac5a-4343-a187-83890ce89809",
   "metadata": {},
   "source": [
    "## Summary of Geocoding Function (Planned Enhancements)\n",
    "\n",
    "The current function reads a CSV file of vendor addresses and names, geocodes them with OSMnx, and saves the results to a CSV while avoiding duplicates. Planned improvements include:\n",
    "\n",
    "- Adding a counter to calculate the percentage of addresses successfully geocoded.\n",
    "- Incorporating a progress tracker to show geocoding progress.\n",
    "- Using regex to clean addresses by removing apartment numbers, suite numbers, or other unusual address parts before geocoding.\n",
    "\n",
    "These enhancements will make the function more robust and user-friendly for larger datasets.\n",
    "\n"
   ]
  },
  {
   "cell_type": "code",
   "execution_count": 9,
   "id": "f37fafa9-0d7f-4b9c-b071-bfe95b0d3a38",
   "metadata": {},
   "outputs": [],
   "source": [
    "import os\n",
    "import pandas as pd\n",
    "import osmnx as ox\n",
    "\n",
    "def geocode_addresses(file_path, address_col='Address', name_col='Vendor', output_folder='data', output_file='geocoded_addresses.csv'):\n",
    "    \n",
    "    # Reads the CSV file\n",
    "    df = pd.read_csv(file_path)\n",
    "    \n",
    "    # Make sure output folder exists\n",
    "    if not os.path.exists(output_folder):\n",
    "        os.makedirs(output_folder)\n",
    "    \n",
    "    output_path = os.path.join(output_folder, output_file)\n",
    "    \n",
    "    # If the file already exists, read it to avoid duplicates\n",
    "    if os.path.exists(output_path):\n",
    "        geocoded_df = pd.read_csv(output_path)\n",
    "    else:\n",
    "        geocoded_df = pd.DataFrame(columns=[name_col, address_col, 'lat', 'lon'])\n",
    "    \n",
    "    # Loop through each row in the input file\n",
    "    for index, row in df.iterrows():\n",
    "        vendor = row[name_col]\n",
    "        address = row[address_col]\n",
    "        \n",
    "        # Skip if this address already exists in the output\n",
    "        if address in geocoded_df[address_col].values:\n",
    "            continue\n",
    "        \n",
    "        try:\n",
    "            # Geocode the address\n",
    "            lat, lon = ox.geocoder.geocode(address)\n",
    "            \n",
    "            # Add to geocoded DataFrame\n",
    "            geocoded_df = pd.concat([geocoded_df, pd.DataFrame({\n",
    "                name_col: [vendor],\n",
    "                address_col: [address],\n",
    "                'lat': [lat],\n",
    "                'lon': [lon]\n",
    "            })], ignore_index=True)\n",
    "            \n",
    "            print(f\"Geocoded: {address} -> ({lat}, {lon})\") #used f-string to condense concatenation\n",
    "        \n",
    "        except:\n",
    "            print(f\"Could not geocode: {address}\")\n",
    "    \n",
    "    # Saves results\n",
    "    geocoded_df.to_csv(output_path, index=False)\n",
    "    print(f\"Geocoded data saved to: {output_path}\")\n"
   ]
  },
  {
   "cell_type": "markdown",
   "id": "f78d60f8-3044-4252-b9ab-53cf4d31f2dc",
   "metadata": {},
   "source": [
    "### Example Usage\n",
    "\n",
    "To run the geocoding function, you would call it like this:\n",
    "\n",
    "```python\n",
    "geocode_addresses('my_vendors.csv', address_col='Vendor_Address', name_col='Vendor_Name')"
   ]
  },
  {
   "cell_type": "code",
   "execution_count": 5,
   "id": "a68f52ed-c2e5-462b-a6b0-24488fb57dca",
   "metadata": {},
   "outputs": [
    {
     "name": "stderr",
     "output_type": "stream",
     "text": [
      "/var/folders/v_/6bzyz4yj3z9484ws7l7lzy_00000gp/T/ipykernel_11117/2349476170.py:46: FutureWarning: The behavior of DataFrame concatenation with empty or all-NA entries is deprecated. In a future version, this will no longer exclude empty or all-NA columns when determining the result dtypes. To retain the old behavior, exclude the relevant entries before the concat operation.\n",
      "  geocoded_df = pd.concat([geocoded_df, pd.DataFrame({\n"
     ]
    },
    {
     "name": "stdout",
     "output_type": "stream",
     "text": [
      "Geocoded: 9956  BALDWIN PL., EL MONTE, CA, 91731 -> (34.0710498, -118.0526633)\n",
      "Geocoded: 9950  JEFFERSON BLVD , CULVER CITY, CA, 90232 -> (34.0111864, -118.3897509)\n",
      "Geocoded: 9911  GIDLEY STREET, EL MONTE, CA, 91731 -> (34.0855759, -118.0514925)\n",
      "Geocoded: 9900  BELL RANCH DR , SANTA FE SPRINGS, CA, 90670 -> (33.9499496, -118.0683831)\n",
      "Geocoded: 9854  NATIONAL BLVD , LOS ANGELES, CA, 90034 -> (34.0313027, -118.4001463)\n",
      "Geocoded: 9834  NORWALK BLVD, SANTA FE SPRINGS, CA, 90670 -> (33.9485997, -118.0725808)\n",
      "Could not geocode: 9812  ALBURTIS AVE, SANTA FE SPGS, CA, 90670\n",
      "Geocoded: 981  S WESTERN AVE, LOS ANGELES, CA, 90006 -> (34.0531823, -118.3091539)\n",
      "Could not geocode: 9760  JERSEY AVE , SANTA FE SPGS, CA, 90670\n",
      "Geocoded: 9734  VARIEL AVE, CHATSWORTH, CA, 91311 -> (34.2470554, -118.592825)\n",
      "Geocoded: 9714  ARTESIA BLVD, BELLFLOWER, CA, 90706 -> (33.874741, -118.1269573)\n",
      "Could not geocode: 9702  E. RUSH STREET, S. EL MONTE, CA, 91733\n",
      "Geocoded: 970  S VILLAGE OAKS DRIVE , COVINA, CA, 91724 -> (34.0713559, -117.8632773)\n",
      "Geocoded: 970  S VILLAGE OAKS DR , COVINA, CA, 91724 -> (34.0713559, -117.8632773)\n",
      "Could not geocode: 9624  HERMOSA AVE, RCH CUCAMONGA, CA, 91730\n",
      "Geocoded: 959  N. LA BREA AVENUE, INGLEWOOD, CA, 90302 -> (33.9755355, -118.3577138)\n",
      "Geocoded: 9530  ARTESIA BLVD , BELLFLOWER, CA, 90706 -> (33.8747267, -118.1305705)\n",
      "Geocoded: 9520  OWENSMOUTH AVE , CHATSWORTH, CA, 91311 -> (34.2432063, -118.6021947)\n",
      "Geocoded: 9519  VAN NUYS BLVD, PANORAMA CITY, CA, 91402 -> (34.243285, -118.450418)\n",
      "Geocoded: 943  NORTH GRAND AVENUE, COVINA, CA, 91724 -> (34.0963214, -117.8727266)\n",
      "Geocoded: 9420  , DOWNEY, CA, 90241 -> (33.9577193, -118.1207202)\n",
      "Could not geocode: 941  W. 190TH ST., GARDENA, CA, 90248\n",
      "Geocoded: 940  AJAX AVE., CITY OF INDUSTRY, CA, 91748 -> (34.0022914, -117.9135358)\n",
      "Geocoded: 9363  HANNA AVE., CHATSWORTH, CA, 91311 -> (34.24096, -118.607739)\n",
      "Could not geocode: 9362  PARKSTONE CIRCLE, ROSEVILLE, CA, 95747\n",
      "Could not geocode: 9362  PARKSTONE CIR, ROSEVILLE, CA, 95747\n",
      "Geocoded: 9301  OAKDALE AVE , CHATSWORTH, CA, 91311 -> (34.239282, -118.56698)\n",
      "Geocoded: 930  COLORADO BLVD., , LOS ANGELES, CA, 90041 -> (34.1386794, -118.1862)\n",
      "Geocoded: 930  CALIFORNIA AVE , SANTA MONICA, CA, 90403 -> (34.0246777, -118.4944303)\n",
      "Could not geocode: 926  N WILMINGTON BL , WILMINGTON, CA, 90744\n",
      "Could not geocode: 9253  1/2 CEDROS AVE, PANORAMA CITY, CA, 91402\n",
      "Could not geocode: 9253  1/2 CEDROS AVE, PANORAMA CITY, CA, 91402\n",
      "Geocoded: 925  W HYDE PARK BLVD, INGLEWOOD, CA, 90302 -> (33.9662682, -118.368869)\n",
      "Geocoded: 9238  DEERING AVE, CHATSWORTH, CA, 91311 -> (34.2380343, -118.5959745)\n",
      "Geocoded: 9226  LAUREL AVE, WHITTIER, CA, 90605 -> (33.9526493, -118.0374975)\n",
      "Geocoded: 922  WEST HYDE PARK BLVD, INGLEWOOD, CA, 90302 -> (33.9662535, -118.3686716)\n",
      "Geocoded: 9213  WILLIS AVE., PANORAMA CITY, CA, 91402 -> (34.2379216, -118.4552698)\n",
      "Geocoded: 921  N. HARBOR BLVD, LA HABRA, CA, 90631 -> (33.9402099, -117.933143)\n",
      "Geocoded: 918  W FOOTHILL BLVD, AZUSA, CA, 91702 -> (34.1334619, -117.9186885)\n",
      "Geocoded: 9171  WILSHIRE BLVD , BEVERLY HILLS, CA, 90210 -> (34.0672868, -118.392413)\n",
      "Geocoded: 915  WILSHIRE BLVD , LOS ANGELES, CA, 90017 -> (34.0510572, -118.2600174)\n",
      "Geocoded: 9132  JORDAN AVE, CHATSWORTH, CA, 91311 -> (34.2361181, -118.6038301)\n",
      "Geocoded: 9130  EGLISE AVE, DOWNEY, CA, 90240 -> (33.951181, -118.1041185)\n",
      "Geocoded: 9129  PERKINS STREET, PICO RIVERA, CA, 90660 -> (33.9721212, -118.1014656)\n",
      "Geocoded: 9100  WILSHIRE BLVD, BEVERLY HILLS, CA, 90212 -> (34.066968, -118.389821)\n",
      "Geocoded: 9100  S SEPULVEDA BLVD, LOS ANGELES, CA, 90045 -> (33.9542725, -118.3957814)\n",
      "Geocoded: 907  WESTWOOD BLVD, LOS ANGELES, CA, 90024 -> (34.0635511, -118.445526)\n",
      "Geocoded: 905  E. 8TH STREET, LOS ANGELES, CA, 90021 -> (34.0312699, -118.2419335)\n",
      "Geocoded: 905  E. 8TH ST, LOS ANGELES, CA, 90021 -> (34.0312699, -118.2419335)\n",
      "Geocoded: 905  E 8TH STREET, LOS ANGELES, CA, 90021 -> (34.0312699, -118.2419335)\n",
      "Geocoded: 905  E 8TH ST, LOS ANGELES, CA, 90021 -> (34.0312699, -118.2419335)\n",
      "Geocoded: 904  E MOUNTAIN VIEW TER, ALHAMBRA, CA, 91801 -> (34.0960371, -118.1146367)\n",
      "Geocoded: 9038  GARVEY AVENUE, ROSEMEAD, CA, 91770 -> (34.062611, -118.0715898)\n",
      "Geocoded: 9038  GARVEY AVE, ROSEMEAD, CA, 91770 -> (34.062611, -118.0715898)\n",
      "Geocoded: 9030  BALBOA BLVD, NORTHRIDGE, CA, 91325 -> (34.2354782, -118.5026347)\n",
      "Geocoded: 903  CALLE AMANECER , SAN CLEMENTE, CA, 92673 -> (33.4484638, -117.6087624)\n",
      "Could not geocode: 903  CALLE AMANACER , SAN CLEMENTE, CA, 92673\n",
      "Geocoded: 8943  COLLETT AVE, NORTH HILLS, CA, 91343 -> (34.2331142, -118.4840927)\n",
      "Geocoded: 894  N FAIR OAKS AVE, PASADENA, CA, 91103 -> (34.1612875, -118.1505077)\n",
      "Geocoded: 8939  S SEPULVEDA BLVD , LOS ANGELES, CA, 90045 -> (33.9550489, -118.3963772)\n",
      "Geocoded data saved to: data/geocoded_addresses.csv\n"
     ]
    }
   ],
   "source": [
    "geocode_addresses('testData.csv', address_col='Address', name_col='Vendor Name')\n"
   ]
  },
  {
   "cell_type": "code",
   "execution_count": 6,
   "id": "ba648631-9d07-4ef7-898a-3b610a45632d",
   "metadata": {},
   "outputs": [
    {
     "name": "stdout",
     "output_type": "stream",
     "text": [
      "Could not geocode: 9812  ALBURTIS AVE, SANTA FE SPGS, CA, 90670\n",
      "Could not geocode: 9760  JERSEY AVE , SANTA FE SPGS, CA, 90670\n",
      "Could not geocode: 9702  E. RUSH STREET, S. EL MONTE, CA, 91733\n",
      "Could not geocode: 9624  HERMOSA AVE, RCH CUCAMONGA, CA, 91730\n",
      "Could not geocode: 941  W. 190TH ST., GARDENA, CA, 90248\n",
      "Could not geocode: 9362  PARKSTONE CIRCLE, ROSEVILLE, CA, 95747\n",
      "Could not geocode: 9362  PARKSTONE CIR, ROSEVILLE, CA, 95747\n",
      "Could not geocode: 926  N WILMINGTON BL , WILMINGTON, CA, 90744\n",
      "Could not geocode: 9253  1/2 CEDROS AVE, PANORAMA CITY, CA, 91402\n",
      "Could not geocode: 9253  1/2 CEDROS AVE, PANORAMA CITY, CA, 91402\n",
      "Could not geocode: 903  CALLE AMANACER , SAN CLEMENTE, CA, 92673\n",
      "Geocoded: 8908  BALBOA BLVD, NORTHRIDGE, CA, 91325 -> (34.2324363, -118.502465)\n",
      "Geocoded: 889  N DOUGLAS STREET, EL SEGUNDO, CA, 90245 -> (33.9285381, -118.3835711)\n",
      "Geocoded: 889  N DOUGLAS ST, EL SEGUNDO, CA, 90245 -> (33.9285381, -118.3835711)\n",
      "Geocoded: 8885  RESEARCH DR, IRVINE, CA, 92618 -> (33.6430897, -117.7373719)\n",
      "Geocoded: 888  E AVENUE L 4, LANCASTER, CA, 93535 -> (34.6567382, -118.1134711)\n",
      "Geocoded: 8851  RESEARCH DR, IRVINE, CA, 92618 -> (33.6437972, -117.7377231)\n",
      "Geocoded: 8816  S SEPULVEDA BLVD, LOS ANGELES, CA, 90045 -> (33.955713, -118.3963779)\n",
      "Could not geocode: 8780  19TH ST, RCH CUCAMONGA, CA, 91701\n",
      "Geocoded: 874  S VILLAGE OAKS DR, COVINA, CA, 91724 -> (34.0731042, -117.8625233)\n",
      "Geocoded: 873  W. 17TH ST., COSTA MESA, CA, 92627 -> (33.6360047, -117.9350097)\n",
      "Geocoded: 8650  SOMERSET BLVD, PARAMOUNT, CA, 90723 -> (33.896342, -118.1475827)\n",
      "Geocoded: 8605  SANTA MONICA BLVD, W HOLLYWOOD, CA, 90069 -> (34.0880685, -118.3794279)\n",
      "Geocoded: 8592  VENICE BLVD, LOS ANGELES, CA, 90034 -> (34.033718, -118.3800347)\n",
      "Geocoded: 8552  AQUEDUCT AVE., NORTH HILLS, CA, 91343 -> (34.2256999, -118.4741373)\n",
      "Geocoded: 855  N DOUGLAS ST, EL SEGUNDO, CA, 90245 -> (33.9277447, -118.3832385)\n",
      "Geocoded: 8549  WILSHIRE BLVD , BEVERLY HILLS, CA, 90211 -> (34.0656649, -118.3777361)\n",
      "Geocoded: 854  FOLSOM ST, SAN FRANCISCO, CA, 94107 -> (37.7811214, -122.4024492)\n",
      "Could not geocode: 8532  VINE VALLEY DR, SUN VALLEY, CA, 91352\n",
      "Geocoded: 8512  HELMAND DR, WINNETKA, CA, 91306 -> (34.2247979, -118.5694641)\n",
      "Geocoded: 851  MERIDIAN ST, DUARTE, CA, 91010 -> (34.1214567, -117.9868065)\n",
      "Geocoded data saved to: data/geocoded_addresses.csv\n"
     ]
    }
   ],
   "source": [
    "geocode_addresses('testData_2.csv', address_col='Address', name_col='Vendor Name')"
   ]
  },
  {
   "cell_type": "code",
   "execution_count": null,
   "id": "4f927088-6bf1-4057-a458-a09b89b00ede",
   "metadata": {},
   "outputs": [],
   "source": []
  }
 ],
 "metadata": {
  "kernelspec": {
   "display_name": "Python 3 (ipykernel)",
   "language": "python",
   "name": "python3"
  },
  "language_info": {
   "codemirror_mode": {
    "name": "ipython",
    "version": 3
   },
   "file_extension": ".py",
   "mimetype": "text/x-python",
   "name": "python",
   "nbconvert_exporter": "python",
   "pygments_lexer": "ipython3",
   "version": "3.13.5"
  }
 },
 "nbformat": 4,
 "nbformat_minor": 5
}
