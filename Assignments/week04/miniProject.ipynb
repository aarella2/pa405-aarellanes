{
 "cells": [
  {
   "cell_type": "markdown",
   "id": "2e77613e-70b3-4d72-b0f2-805a6dd7d30f",
   "metadata": {},
   "source": [
    "# **Mini Project Assignment Week 4**"
   ]
  },
  {
   "cell_type": "markdown",
   "id": "0a1a5cfc-fcea-4f45-8ee7-faf610e64512",
   "metadata": {},
   "source": [
    "#### For my project, I aim to analyze the factors influencing the distribution of local small businesses across Los Angeles County. My initial project proposal can be found [here](https://github.com/aarella2/pa405-aarellanes/blob/main/projectProposal.md)."
   ]
  },
  {
   "cell_type": "markdown",
   "id": "ad54a8f4-54ae-4dfa-b01e-ff2cc1469ee7",
   "metadata": {},
   "source": [
    "## Status Update\n",
    "So far, I have been working with census tract data to examine population distribution across Los Angeles County, with a particular focus on daytime worker populations. I'm interested in exploring whether businesses tend to establish themselves in areas with a high concentration of workers, or if workers are drawn to areas where businesses are already located. I haven’t yet merged my local small business address data with the census data, but I plan to do that this week as the next step in my analysis."
   ]
  },
  {
   "cell_type": "markdown",
   "id": "25d3ae36-38f6-4889-bbee-11cc0162df9a",
   "metadata": {},
   "source": [
    "## Data Update  \n",
    "\n",
    "- **[Census Tracts Data](https://github.com/aarella2/pa405-aarellanes/tree/main/Assignments/week03/data)**: Source of population and workforce data used to analyze distribution patterns across Los Angeles County.\n",
    "- **[Small Business Data](https://github.com/aarella2/pa405-aarellanes/tree/main/Assignments/week04/data)**: This dataset contains the locations of local small businesses. I will be working on merging it with the census tract data to explore spatial relationships between businesses and population/workforce distribution."
   ]
  },
  {
   "cell_type": "markdown",
   "id": "7abb8f17-4439-4f29-86ee-8694595e2c96",
   "metadata": {},
   "source": [
    "## Concerns\n",
    "\n",
    "One of the main challenges I'm anticipating is the data merging process. While I was given examples after I submitted my proposal, I still need to take the time to figure out how to properly join the small business address data with the census tract data. I’m especially unsure about how well the geographic identifiers in each dataset will align. Additionally, If the addresses are inconsistent or incomplete, it could make the geocoding and merging process much more difficult.\n",
    "\n",
    "The bigger concern I have is with my overall research question. I originally wanted to focus on small businesses registered with the County, but now I’m realizing that census data might not be the best fit for that. Since the census data covers the entire county, it doesn’t necessarily reflect where County registered businesses are actually located. That could make it harder to draw conclusions about the patterns I was hoping to explore.\n",
    "\n"
   ]
  },
  {
   "cell_type": "code",
   "execution_count": null,
   "id": "06a4e1d1-215a-4726-b14b-6ba3c8040cc3",
   "metadata": {},
   "outputs": [],
   "source": []
  }
 ],
 "metadata": {
  "kernelspec": {
   "display_name": "Python 3 (ipykernel)",
   "language": "python",
   "name": "python3"
  },
  "language_info": {
   "codemirror_mode": {
    "name": "ipython",
    "version": 3
   },
   "file_extension": ".py",
   "mimetype": "text/x-python",
   "name": "python",
   "nbconvert_exporter": "python",
   "pygments_lexer": "ipython3",
   "version": "3.13.5"
  }
 },
 "nbformat": 4,
 "nbformat_minor": 5
}
