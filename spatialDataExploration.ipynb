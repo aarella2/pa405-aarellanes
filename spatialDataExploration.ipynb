{
 "cells": [
  {
   "cell_type": "markdown",
   "id": "d1187329-d183-44b3-ac58-7a0c34f2315d",
   "metadata": {},
   "source": [
    "# Assignment 1, Week 2\n",
    "In this assignment we will be exlploring different pandas commands with our own data. "
   ]
  },
  {
   "cell_type": "code",
   "execution_count": 12,
   "id": "73ace012-da9a-42ae-8a3e-969bf2efa2e4",
   "metadata": {},
   "outputs": [],
   "source": [
    "# importing libraries\n",
    "import pandas as pd"
   ]
  },
  {
   "cell_type": "code",
   "execution_count": 13,
   "id": "fca8a4e2-e400-4398-8158-82145e32abae",
   "metadata": {},
   "outputs": [],
   "source": [
    "# imports our CSV file and sets the name to ppeVendors\n",
    "ppeVendors = pd.read_csv('data/RecentlyAwarded_v2.csv', on_bad_lines='warn')"
   ]
  },
  {
   "cell_type": "markdown",
   "id": "54717727-ab66-4b2c-a40e-a2ce741db3b1",
   "metadata": {},
   "source": [
    "#### **.shape** allows us to see how many rows and columns the data has\n"
   ]
  },
  {
   "cell_type": "code",
   "execution_count": 14,
   "id": "6c2efcd9-f7eb-4f31-a0eb-323914c788d7",
   "metadata": {},
   "outputs": [
    {
     "data": {
      "text/plain": [
       "(1190, 7)"
      ]
     },
     "execution_count": 14,
     "metadata": {},
     "output_type": "execute_result"
    }
   ],
   "source": [
    "ppeVendors.shape"
   ]
  },
  {
   "cell_type": "markdown",
   "id": "c9eec465-0013-487c-a05b-2464725bd0c4",
   "metadata": {},
   "source": [
    "#### **.head()** gives us the first 5 rows of data"
   ]
  },
  {
   "cell_type": "code",
   "execution_count": 15,
   "id": "452b8594-7718-4e74-bd52-ff7f55b1c590",
   "metadata": {},
   "outputs": [
    {
     "data": {
      "text/html": [
       "<div>\n",
       "<style scoped>\n",
       "    .dataframe tbody tr th:only-of-type {\n",
       "        vertical-align: middle;\n",
       "    }\n",
       "\n",
       "    .dataframe tbody tr th {\n",
       "        vertical-align: top;\n",
       "    }\n",
       "\n",
       "    .dataframe thead th {\n",
       "        text-align: right;\n",
       "    }\n",
       "</style>\n",
       "<table border=\"1\" class=\"dataframe\">\n",
       "  <thead>\n",
       "    <tr style=\"text-align: right;\">\n",
       "      <th></th>\n",
       "      <th>Vendor Code</th>\n",
       "      <th>Company</th>\n",
       "      <th>Address</th>\n",
       "      <th>City</th>\n",
       "      <th>County</th>\n",
       "      <th>State</th>\n",
       "      <th>Zip</th>\n",
       "    </tr>\n",
       "  </thead>\n",
       "  <tbody>\n",
       "    <tr>\n",
       "      <th>0</th>\n",
       "      <td>54358</td>\n",
       "      <td>D&amp;R OFFICE WORKS INC</td>\n",
       "      <td>9956 BALDWIN PL.</td>\n",
       "      <td>EL MONTE</td>\n",
       "      <td>In LA County</td>\n",
       "      <td>California</td>\n",
       "      <td>91731</td>\n",
       "    </tr>\n",
       "    <tr>\n",
       "      <th>1</th>\n",
       "      <td>201591</td>\n",
       "      <td>PRIMESTOR DEVELOPMENT, LLC</td>\n",
       "      <td>9950 JEFFERSON BLVD STE 2</td>\n",
       "      <td>CULVER CITY</td>\n",
       "      <td>In LA County</td>\n",
       "      <td>California</td>\n",
       "      <td>90232</td>\n",
       "    </tr>\n",
       "    <tr>\n",
       "      <th>2</th>\n",
       "      <td>181262</td>\n",
       "      <td>SYBMAN, INC</td>\n",
       "      <td>9911 GIDLEY STREET</td>\n",
       "      <td>EL MONTE</td>\n",
       "      <td>In LA County</td>\n",
       "      <td>California</td>\n",
       "      <td>91731</td>\n",
       "    </tr>\n",
       "    <tr>\n",
       "      <th>3</th>\n",
       "      <td>189244</td>\n",
       "      <td>CS INC</td>\n",
       "      <td>9900 BELL RANCH DR STE 105</td>\n",
       "      <td>SANTA FE SPRINGS</td>\n",
       "      <td>In LA County</td>\n",
       "      <td>California</td>\n",
       "      <td>90670</td>\n",
       "    </tr>\n",
       "    <tr>\n",
       "      <th>4</th>\n",
       "      <td>204063</td>\n",
       "      <td>STC INTERPRETING INC.</td>\n",
       "      <td>9854 NATIONAL BLVD # 359</td>\n",
       "      <td>LOS ANGELES</td>\n",
       "      <td>In LA County</td>\n",
       "      <td>California</td>\n",
       "      <td>90034</td>\n",
       "    </tr>\n",
       "  </tbody>\n",
       "</table>\n",
       "</div>"
      ],
      "text/plain": [
       "   Vendor Code                     Company                     Address  \\\n",
       "0        54358        D&R OFFICE WORKS INC            9956 BALDWIN PL.   \n",
       "1       201591  PRIMESTOR DEVELOPMENT, LLC   9950 JEFFERSON BLVD STE 2   \n",
       "2       181262                 SYBMAN, INC          9911 GIDLEY STREET   \n",
       "3       189244                      CS INC  9900 BELL RANCH DR STE 105   \n",
       "4       204063       STC INTERPRETING INC.    9854 NATIONAL BLVD # 359   \n",
       "\n",
       "               City        County       State    Zip  \n",
       "0          EL MONTE  In LA County  California  91731  \n",
       "1       CULVER CITY  In LA County  California  90232  \n",
       "2          EL MONTE  In LA County  California  91731  \n",
       "3  SANTA FE SPRINGS  In LA County  California  90670  \n",
       "4       LOS ANGELES  In LA County  California  90034  "
      ]
     },
     "execution_count": 15,
     "metadata": {},
     "output_type": "execute_result"
    }
   ],
   "source": [
    "ppeVendors.head()"
   ]
  },
  {
   "cell_type": "markdown",
   "id": "c572b68b-8321-401e-ac1c-74f746057d5e",
   "metadata": {},
   "source": [
    "#### **.info()** gives us a summary of the data"
   ]
  },
  {
   "cell_type": "code",
   "execution_count": 16,
   "id": "5bc5fc10-7980-41ea-8081-d0bb8b8adc29",
   "metadata": {},
   "outputs": [
    {
     "name": "stdout",
     "output_type": "stream",
     "text": [
      "<class 'pandas.core.frame.DataFrame'>\n",
      "RangeIndex: 1190 entries, 0 to 1189\n",
      "Data columns (total 7 columns):\n",
      " #   Column       Non-Null Count  Dtype \n",
      "---  ------       --------------  ----- \n",
      " 0   Vendor Code  1190 non-null   int64 \n",
      " 1   Company      1190 non-null   object\n",
      " 2   Address      1190 non-null   object\n",
      " 3   City         1190 non-null   object\n",
      " 4   County       1190 non-null   object\n",
      " 5   State        1190 non-null   object\n",
      " 6   Zip          1190 non-null   int64 \n",
      "dtypes: int64(2), object(5)\n",
      "memory usage: 65.2+ KB\n"
     ]
    }
   ],
   "source": [
    "ppeVendors.info()"
   ]
  },
  {
   "cell_type": "markdown",
   "id": "1f7ba824-8615-4b67-9680-3982ada42886",
   "metadata": {},
   "source": [
    "#### **.columns.to_list()** turns our columns into a list. We can use this to remove or add columns"
   ]
  },
  {
   "cell_type": "code",
   "execution_count": 17,
   "id": "ac3001c3-c24c-4b28-a86f-37186aa2a8ee",
   "metadata": {},
   "outputs": [
    {
     "data": {
      "text/plain": [
       "['Vendor Code', 'Company', 'Address', 'City', 'County', 'State', 'Zip']"
      ]
     },
     "execution_count": 17,
     "metadata": {},
     "output_type": "execute_result"
    }
   ],
   "source": [
    "# what are the columns?\n",
    "ppeVendors.columns.to_list()"
   ]
  },
  {
   "cell_type": "markdown",
   "id": "40574263-fcf0-4469-8f7d-b1815595e943",
   "metadata": {},
   "source": [
    "#### I used **.value_counts()** to count the number of lsbe vendors per zip code. This way I can see if there are zip codes/cities that are more attractive to vendors"
   ]
  },
  {
   "cell_type": "code",
   "execution_count": 18,
   "id": "53275503-75dc-4f7c-bcef-2864e3916c45",
   "metadata": {},
   "outputs": [
    {
     "data": {
      "text/plain": [
       "Zip\n",
       "90670    34\n",
       "90017    20\n",
       "91016    16\n",
       "90245    15\n",
       "90703    14\n",
       "         ..\n",
       "92082     1\n",
       "91788     1\n",
       "90275     1\n",
       "92677     1\n",
       "90802     1\n",
       "Name: count, Length: 344, dtype: int64"
      ]
     },
     "execution_count": 18,
     "metadata": {},
     "output_type": "execute_result"
    }
   ],
   "source": [
    "# Counts the number of lsbe's per zip code\n",
    "ppeVendors['Zip'].value_counts()"
   ]
  },
  {
   "cell_type": "markdown",
   "id": "15ff3a35-0384-4651-996a-1e3dd1a6de71",
   "metadata": {},
   "source": [
    "#### I am saving the zip code list from above as a variable. This way I convert it into a dataframe and eventually plot it. "
   ]
  },
  {
   "cell_type": "code",
   "execution_count": 19,
   "id": "ac6f51c2-f502-4bfd-8553-78d917a5cfe2",
   "metadata": {},
   "outputs": [
    {
     "data": {
      "text/plain": [
       "Zip\n",
       "90670    34\n",
       "90017    20\n",
       "91016    16\n",
       "90245    15\n",
       "90703    14\n",
       "         ..\n",
       "92082     1\n",
       "91788     1\n",
       "90275     1\n",
       "92677     1\n",
       "90802     1\n",
       "Name: count, Length: 344, dtype: int64"
      ]
     },
     "execution_count": 19,
     "metadata": {},
     "output_type": "execute_result"
    }
   ],
   "source": [
    "# save it as a variable\n",
    "zip_count = ppeVendors['Zip'].value_counts()\n",
    "zip_count"
   ]
  },
  {
   "cell_type": "code",
   "execution_count": 20,
   "id": "996dc9d1-184e-4390-80c5-ca3ea31eb320",
   "metadata": {},
   "outputs": [
    {
     "data": {
      "text/plain": [
       "pandas.core.series.Series"
      ]
     },
     "execution_count": 20,
     "metadata": {},
     "output_type": "execute_result"
    }
   ],
   "source": [
    "type(zip_count)"
   ]
  },
  {
   "cell_type": "markdown",
   "id": "c9f960fb-e83f-49be-a7e9-485ad773c3c1",
   "metadata": {},
   "source": [
    "#### This is where we convert the zip_count variable into a data frame."
   ]
  },
  {
   "cell_type": "code",
   "execution_count": 21,
   "id": "ba0645e9-a69e-464a-a076-f434e4ea24d3",
   "metadata": {},
   "outputs": [
    {
     "data": {
      "text/html": [
       "<div>\n",
       "<style scoped>\n",
       "    .dataframe tbody tr th:only-of-type {\n",
       "        vertical-align: middle;\n",
       "    }\n",
       "\n",
       "    .dataframe tbody tr th {\n",
       "        vertical-align: top;\n",
       "    }\n",
       "\n",
       "    .dataframe thead th {\n",
       "        text-align: right;\n",
       "    }\n",
       "</style>\n",
       "<table border=\"1\" class=\"dataframe\">\n",
       "  <thead>\n",
       "    <tr style=\"text-align: right;\">\n",
       "      <th></th>\n",
       "      <th>Zip</th>\n",
       "      <th>count</th>\n",
       "    </tr>\n",
       "  </thead>\n",
       "  <tbody>\n",
       "    <tr>\n",
       "      <th>0</th>\n",
       "      <td>90670</td>\n",
       "      <td>34</td>\n",
       "    </tr>\n",
       "    <tr>\n",
       "      <th>1</th>\n",
       "      <td>90017</td>\n",
       "      <td>20</td>\n",
       "    </tr>\n",
       "    <tr>\n",
       "      <th>2</th>\n",
       "      <td>91016</td>\n",
       "      <td>16</td>\n",
       "    </tr>\n",
       "    <tr>\n",
       "      <th>3</th>\n",
       "      <td>90245</td>\n",
       "      <td>15</td>\n",
       "    </tr>\n",
       "    <tr>\n",
       "      <th>4</th>\n",
       "      <td>90703</td>\n",
       "      <td>14</td>\n",
       "    </tr>\n",
       "    <tr>\n",
       "      <th>...</th>\n",
       "      <td>...</td>\n",
       "      <td>...</td>\n",
       "    </tr>\n",
       "    <tr>\n",
       "      <th>339</th>\n",
       "      <td>92082</td>\n",
       "      <td>1</td>\n",
       "    </tr>\n",
       "    <tr>\n",
       "      <th>340</th>\n",
       "      <td>91788</td>\n",
       "      <td>1</td>\n",
       "    </tr>\n",
       "    <tr>\n",
       "      <th>341</th>\n",
       "      <td>90275</td>\n",
       "      <td>1</td>\n",
       "    </tr>\n",
       "    <tr>\n",
       "      <th>342</th>\n",
       "      <td>92677</td>\n",
       "      <td>1</td>\n",
       "    </tr>\n",
       "    <tr>\n",
       "      <th>343</th>\n",
       "      <td>90802</td>\n",
       "      <td>1</td>\n",
       "    </tr>\n",
       "  </tbody>\n",
       "</table>\n",
       "<p>344 rows × 2 columns</p>\n",
       "</div>"
      ],
      "text/plain": [
       "       Zip  count\n",
       "0    90670     34\n",
       "1    90017     20\n",
       "2    91016     16\n",
       "3    90245     15\n",
       "4    90703     14\n",
       "..     ...    ...\n",
       "339  92082      1\n",
       "340  91788      1\n",
       "341  90275      1\n",
       "342  92677      1\n",
       "343  90802      1\n",
       "\n",
       "[344 rows x 2 columns]"
      ]
     },
     "execution_count": 21,
     "metadata": {},
     "output_type": "execute_result"
    }
   ],
   "source": [
    "# let's convert the series into a dataframe\n",
    "#with this we can create a bar chart if we wanted to\n",
    "zip_count = zip_count.reset_index()\n",
    "zip_count"
   ]
  },
  {
   "cell_type": "markdown",
   "id": "6bc8fd30-6706-444c-ae83-f8d302a40d2d",
   "metadata": {},
   "source": [
    "##### Here I am renaming the column headers so they are lower cased. "
   ]
  },
  {
   "cell_type": "code",
   "execution_count": 22,
   "id": "522ef0d0-ed3a-4d00-bc1e-dbdde1a353ba",
   "metadata": {},
   "outputs": [
    {
     "data": {
      "text/html": [
       "<div>\n",
       "<style scoped>\n",
       "    .dataframe tbody tr th:only-of-type {\n",
       "        vertical-align: middle;\n",
       "    }\n",
       "\n",
       "    .dataframe tbody tr th {\n",
       "        vertical-align: top;\n",
       "    }\n",
       "\n",
       "    .dataframe thead th {\n",
       "        text-align: right;\n",
       "    }\n",
       "</style>\n",
       "<table border=\"1\" class=\"dataframe\">\n",
       "  <thead>\n",
       "    <tr style=\"text-align: right;\">\n",
       "      <th></th>\n",
       "      <th>zip</th>\n",
       "      <th>count</th>\n",
       "    </tr>\n",
       "  </thead>\n",
       "  <tbody>\n",
       "    <tr>\n",
       "      <th>0</th>\n",
       "      <td>90670</td>\n",
       "      <td>34</td>\n",
       "    </tr>\n",
       "    <tr>\n",
       "      <th>1</th>\n",
       "      <td>90017</td>\n",
       "      <td>20</td>\n",
       "    </tr>\n",
       "    <tr>\n",
       "      <th>2</th>\n",
       "      <td>91016</td>\n",
       "      <td>16</td>\n",
       "    </tr>\n",
       "    <tr>\n",
       "      <th>3</th>\n",
       "      <td>90245</td>\n",
       "      <td>15</td>\n",
       "    </tr>\n",
       "    <tr>\n",
       "      <th>4</th>\n",
       "      <td>90703</td>\n",
       "      <td>14</td>\n",
       "    </tr>\n",
       "    <tr>\n",
       "      <th>...</th>\n",
       "      <td>...</td>\n",
       "      <td>...</td>\n",
       "    </tr>\n",
       "    <tr>\n",
       "      <th>339</th>\n",
       "      <td>92082</td>\n",
       "      <td>1</td>\n",
       "    </tr>\n",
       "    <tr>\n",
       "      <th>340</th>\n",
       "      <td>91788</td>\n",
       "      <td>1</td>\n",
       "    </tr>\n",
       "    <tr>\n",
       "      <th>341</th>\n",
       "      <td>90275</td>\n",
       "      <td>1</td>\n",
       "    </tr>\n",
       "    <tr>\n",
       "      <th>342</th>\n",
       "      <td>92677</td>\n",
       "      <td>1</td>\n",
       "    </tr>\n",
       "    <tr>\n",
       "      <th>343</th>\n",
       "      <td>90802</td>\n",
       "      <td>1</td>\n",
       "    </tr>\n",
       "  </tbody>\n",
       "</table>\n",
       "<p>344 rows × 2 columns</p>\n",
       "</div>"
      ],
      "text/plain": [
       "       zip  count\n",
       "0    90670     34\n",
       "1    90017     20\n",
       "2    91016     16\n",
       "3    90245     15\n",
       "4    90703     14\n",
       "..     ...    ...\n",
       "339  92082      1\n",
       "340  91788      1\n",
       "341  90275      1\n",
       "342  92677      1\n",
       "343  90802      1\n",
       "\n",
       "[344 rows x 2 columns]"
      ]
     },
     "execution_count": 22,
     "metadata": {},
     "output_type": "execute_result"
    }
   ],
   "source": [
    "#renames the column names\n",
    "zip_count.columns = ['zip', 'count']\n",
    "zip_count"
   ]
  },
  {
   "cell_type": "markdown",
   "id": "291d0964-d490-479f-8d0b-6b40d9788bd5",
   "metadata": {},
   "source": [
    "##### I ploted the zip codes but I had too much data. "
   ]
  },
  {
   "cell_type": "code",
   "execution_count": 23,
   "id": "9eff588f-be0f-4ce4-95bd-c3895bef8fe8",
   "metadata": {},
   "outputs": [
    {
     "data": {
      "text/plain": [
       "<Axes: >"
      ]
     },
     "execution_count": 23,
     "metadata": {},
     "output_type": "execute_result"
    },
    {
     "data": {
      "image/png": "[encoded data removed]",
      "text/plain": [
       "<Figure size 640x480 with 1 Axes>"
      ]
     },
     "metadata": {},
     "output_type": "display_data"
    }
   ],
   "source": [
    "zip_count.plot()"
   ]
  },
  {
   "cell_type": "markdown",
   "id": "4c765b17-c758-4bd6-a622-2119e2576e40",
   "metadata": {},
   "source": [
    "##### I used a bar chart as well, but like the line graph above the zip codes too much data. "
   ]
  },
  {
   "cell_type": "code",
   "execution_count": 24,
   "id": "9f57070e-71ab-4c2b-b9a9-bece8d488937",
   "metadata": {},
   "outputs": [
    {
     "data": {
      "text/plain": [
       "<Axes: title={'center': 'Number of vendors per zip code'}, xlabel='zip'>"
      ]
     },
     "execution_count": 24,
     "metadata": {},
     "output_type": "execute_result"
    },
    {
     "data": {
      "image/png": "[encoded data removed]",
      "text/plain": [
       "<Figure size 640x480 with 1 Axes>"
      ]
     },
     "metadata": {},
     "output_type": "display_data"
    }
   ],
   "source": [
    "zip_count.plot.bar(x = 'zip', y = 'count', title = 'Number of vendors per zip code')"
   ]
  },
  {
   "cell_type": "code",
   "execution_count": 25,
   "id": "01af2a0b-f760-40be-9f88-9659683c6746",
   "metadata": {},
   "outputs": [
    {
     "data": {
      "text/html": [
       "<div>\n",
       "<style scoped>\n",
       "    .dataframe tbody tr th:only-of-type {\n",
       "        vertical-align: middle;\n",
       "    }\n",
       "\n",
       "    .dataframe tbody tr th {\n",
       "        vertical-align: top;\n",
       "    }\n",
       "\n",
       "    .dataframe thead th {\n",
       "        text-align: right;\n",
       "    }\n",
       "</style>\n",
       "<table border=\"1\" class=\"dataframe\">\n",
       "  <thead>\n",
       "    <tr style=\"text-align: right;\">\n",
       "      <th></th>\n",
       "      <th>zip</th>\n",
       "      <th>count</th>\n",
       "    </tr>\n",
       "  </thead>\n",
       "  <tbody>\n",
       "    <tr>\n",
       "      <th>0</th>\n",
       "      <td>90670</td>\n",
       "      <td>34</td>\n",
       "    </tr>\n",
       "    <tr>\n",
       "      <th>1</th>\n",
       "      <td>90017</td>\n",
       "      <td>20</td>\n",
       "    </tr>\n",
       "    <tr>\n",
       "      <th>2</th>\n",
       "      <td>91016</td>\n",
       "      <td>16</td>\n",
       "    </tr>\n",
       "    <tr>\n",
       "      <th>3</th>\n",
       "      <td>90245</td>\n",
       "      <td>15</td>\n",
       "    </tr>\n",
       "    <tr>\n",
       "      <th>4</th>\n",
       "      <td>90703</td>\n",
       "      <td>14</td>\n",
       "    </tr>\n",
       "    <tr>\n",
       "      <th>5</th>\n",
       "      <td>91107</td>\n",
       "      <td>13</td>\n",
       "    </tr>\n",
       "    <tr>\n",
       "      <th>6</th>\n",
       "      <td>91101</td>\n",
       "      <td>13</td>\n",
       "    </tr>\n",
       "    <tr>\n",
       "      <th>7</th>\n",
       "      <td>90015</td>\n",
       "      <td>12</td>\n",
       "    </tr>\n",
       "    <tr>\n",
       "      <th>8</th>\n",
       "      <td>90040</td>\n",
       "      <td>12</td>\n",
       "    </tr>\n",
       "    <tr>\n",
       "      <th>9</th>\n",
       "      <td>90010</td>\n",
       "      <td>11</td>\n",
       "    </tr>\n",
       "    <tr>\n",
       "      <th>10</th>\n",
       "      <td>91605</td>\n",
       "      <td>11</td>\n",
       "    </tr>\n",
       "    <tr>\n",
       "      <th>11</th>\n",
       "      <td>91733</td>\n",
       "      <td>11</td>\n",
       "    </tr>\n",
       "    <tr>\n",
       "      <th>12</th>\n",
       "      <td>90650</td>\n",
       "      <td>11</td>\n",
       "    </tr>\n",
       "    <tr>\n",
       "      <th>13</th>\n",
       "      <td>91311</td>\n",
       "      <td>11</td>\n",
       "    </tr>\n",
       "    <tr>\n",
       "      <th>14</th>\n",
       "      <td>90606</td>\n",
       "      <td>10</td>\n",
       "    </tr>\n",
       "  </tbody>\n",
       "</table>\n",
       "</div>"
      ],
      "text/plain": [
       "      zip  count\n",
       "0   90670     34\n",
       "1   90017     20\n",
       "2   91016     16\n",
       "3   90245     15\n",
       "4   90703     14\n",
       "5   91107     13\n",
       "6   91101     13\n",
       "7   90015     12\n",
       "8   90040     12\n",
       "9   90010     11\n",
       "10  91605     11\n",
       "11  91733     11\n",
       "12  90650     11\n",
       "13  91311     11\n",
       "14  90606     10"
      ]
     },
     "execution_count": 25,
     "metadata": {},
     "output_type": "execute_result"
    }
   ],
   "source": [
    "# I am looking at the top 15 zip codes to see where I can cut off the data to graph.\n",
    "zip_count.head(15)"
   ]
  },
  {
   "cell_type": "markdown",
   "id": "c9e752d8-6608-48c4-991f-82f84586771d",
   "metadata": {},
   "source": [
    "#### I created a new variable which consist of the top 15 zip codes. The data file has a total of 344 zip codes. I will only be looking at the top 15."
   ]
  },
  {
   "cell_type": "code",
   "execution_count": 26,
   "id": "209e8a0a-26d3-4eae-bd3b-9695b3eb80d2",
   "metadata": {},
   "outputs": [],
   "source": [
    "zip_count_15 = zip_count.head(15)"
   ]
  },
  {
   "cell_type": "code",
   "execution_count": 27,
   "id": "0f414946-07e3-4b18-a70c-988a23306570",
   "metadata": {},
   "outputs": [
    {
     "data": {
      "text/html": [
       "<div>\n",
       "<style scoped>\n",
       "    .dataframe tbody tr th:only-of-type {\n",
       "        vertical-align: middle;\n",
       "    }\n",
       "\n",
       "    .dataframe tbody tr th {\n",
       "        vertical-align: top;\n",
       "    }\n",
       "\n",
       "    .dataframe thead th {\n",
       "        text-align: right;\n",
       "    }\n",
       "</style>\n",
       "<table border=\"1\" class=\"dataframe\">\n",
       "  <thead>\n",
       "    <tr style=\"text-align: right;\">\n",
       "      <th></th>\n",
       "      <th>zip</th>\n",
       "      <th>count</th>\n",
       "    </tr>\n",
       "  </thead>\n",
       "  <tbody>\n",
       "    <tr>\n",
       "      <th>0</th>\n",
       "      <td>90670</td>\n",
       "      <td>34</td>\n",
       "    </tr>\n",
       "    <tr>\n",
       "      <th>1</th>\n",
       "      <td>90017</td>\n",
       "      <td>20</td>\n",
       "    </tr>\n",
       "    <tr>\n",
       "      <th>2</th>\n",
       "      <td>91016</td>\n",
       "      <td>16</td>\n",
       "    </tr>\n",
       "    <tr>\n",
       "      <th>3</th>\n",
       "      <td>90245</td>\n",
       "      <td>15</td>\n",
       "    </tr>\n",
       "    <tr>\n",
       "      <th>4</th>\n",
       "      <td>90703</td>\n",
       "      <td>14</td>\n",
       "    </tr>\n",
       "    <tr>\n",
       "      <th>5</th>\n",
       "      <td>91107</td>\n",
       "      <td>13</td>\n",
       "    </tr>\n",
       "    <tr>\n",
       "      <th>6</th>\n",
       "      <td>91101</td>\n",
       "      <td>13</td>\n",
       "    </tr>\n",
       "    <tr>\n",
       "      <th>7</th>\n",
       "      <td>90015</td>\n",
       "      <td>12</td>\n",
       "    </tr>\n",
       "    <tr>\n",
       "      <th>8</th>\n",
       "      <td>90040</td>\n",
       "      <td>12</td>\n",
       "    </tr>\n",
       "    <tr>\n",
       "      <th>9</th>\n",
       "      <td>90010</td>\n",
       "      <td>11</td>\n",
       "    </tr>\n",
       "    <tr>\n",
       "      <th>10</th>\n",
       "      <td>91605</td>\n",
       "      <td>11</td>\n",
       "    </tr>\n",
       "    <tr>\n",
       "      <th>11</th>\n",
       "      <td>91733</td>\n",
       "      <td>11</td>\n",
       "    </tr>\n",
       "    <tr>\n",
       "      <th>12</th>\n",
       "      <td>90650</td>\n",
       "      <td>11</td>\n",
       "    </tr>\n",
       "    <tr>\n",
       "      <th>13</th>\n",
       "      <td>91311</td>\n",
       "      <td>11</td>\n",
       "    </tr>\n",
       "    <tr>\n",
       "      <th>14</th>\n",
       "      <td>90606</td>\n",
       "      <td>10</td>\n",
       "    </tr>\n",
       "  </tbody>\n",
       "</table>\n",
       "</div>"
      ],
      "text/plain": [
       "      zip  count\n",
       "0   90670     34\n",
       "1   90017     20\n",
       "2   91016     16\n",
       "3   90245     15\n",
       "4   90703     14\n",
       "5   91107     13\n",
       "6   91101     13\n",
       "7   90015     12\n",
       "8   90040     12\n",
       "9   90010     11\n",
       "10  91605     11\n",
       "11  91733     11\n",
       "12  90650     11\n",
       "13  91311     11\n",
       "14  90606     10"
      ]
     },
     "execution_count": 27,
     "metadata": {},
     "output_type": "execute_result"
    }
   ],
   "source": [
    "zip_count_15"
   ]
  },
  {
   "cell_type": "code",
   "execution_count": 28,
   "id": "244452ed-ea8e-4f41-bdf8-dfc238c4971b",
   "metadata": {},
   "outputs": [
    {
     "data": {
      "text/plain": [
       "<Axes: >"
      ]
     },
     "execution_count": 28,
     "metadata": {},
     "output_type": "execute_result"
    },
    {
     "data": {
      "image/png": "[encoded data removed]",
      "text/plain": [
       "<Figure size 640x480 with 1 Axes>"
      ]
     },
     "metadata": {},
     "output_type": "display_data"
    }
   ],
   "source": [
    "# I ploted the 15 zip codes, but I don't think a bar chart is a good method\n",
    "# to vizualize this data. A bar chart would be better.\n",
    "zip_count_15.plot()"
   ]
  },
  {
   "cell_type": "markdown",
   "id": "1aba6d9a-21a0-4822-8418-b8e569d1192d",
   "metadata": {},
   "source": [
    "#### I used a bar chart to show that zip code 90670 has significantly more business than any other location in the County."
   ]
  },
  {
   "cell_type": "code",
   "execution_count": 29,
   "id": "4e1dfa66-dfac-4fb1-974e-614f0abc9bd7",
   "metadata": {},
   "outputs": [
    {
     "data": {
      "text/plain": [
       "<Axes: title={'center': 'Number of vendors per zip code'}, xlabel='zip'>"
      ]
     },
     "execution_count": 29,
     "metadata": {},
     "output_type": "execute_result"
    },
    {
     "data": {
      "image/png": "[encoded data removed]",
      "text/plain": [
       "<Figure size 640x480 with 1 Axes>"
      ]
     },
     "metadata": {},
     "output_type": "display_data"
    }
   ],
   "source": [
    "zip_count_15.plot.bar(x = 'zip', y = 'count', title = 'Number of vendors per zip code')"
   ]
  }
 ],
 "metadata": {
  "kernelspec": {
   "display_name": "Python 3 (ipykernel)",
   "language": "python",
   "name": "python3"
  },
  "language_info": {
   "codemirror_mode": {
    "name": "ipython",
    "version": 3
   },
   "file_extension": ".py",
   "mimetype": "text/x-python",
   "name": "python",
   "nbconvert_exporter": "python",
   "pygments_lexer": "ipython3",
   "version": "3.13.5"
  }
 },
 "nbformat": 4,
 "nbformat_minor": 5
}
